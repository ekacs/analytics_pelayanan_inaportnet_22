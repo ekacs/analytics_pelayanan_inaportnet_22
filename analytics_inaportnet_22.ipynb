{
  "nbformat": 4,
  "nbformat_minor": 0,
  "metadata": {
    "colab": {
      "provenance": [],
      "collapsed_sections": [
        "jvig-zCJZzuC",
        "k2UVczUryLW0",
        "nDBkf6etunT1",
        "NqTHy3nxus8N",
        "itLw1UKgu6sJ",
        "j3Bn0BK_vH_R",
        "QddcHwxovCSR",
        "8vn3VWo7vXh6",
        "B0ms9qzevcbb"
      ],
      "authorship_tag": "ABX9TyMShCJPCOANXozd64P1PLU7",
      "include_colab_link": true
    },
    "kernelspec": {
      "name": "python3",
      "display_name": "Python 3"
    },
    "language_info": {
      "name": "python"
    }
  },
  "cells": [
    {
      "cell_type": "markdown",
      "metadata": {
        "id": "view-in-github",
        "colab_type": "text"
      },
      "source": [
        "<a href=\"https://colab.research.google.com/github/ekacs/analytics_pelayanan_inaportnet_22/blob/main/analytics_inaportnet_22.ipynb\" target=\"_parent\"><img src=\"https://colab.research.google.com/assets/colab-badge.svg\" alt=\"Open In Colab\"/></a>"
      ]
    },
    {
      "cell_type": "markdown",
      "source": [
        "#Instalasi library"
      ],
      "metadata": {
        "id": "piypAntHW73d"
      }
    },
    {
      "cell_type": "code",
      "source": [
        "#install library wajib\n",
        "!pip install pytz\n",
        "import numpy as np\n",
        "import pytz\n",
        "import pandas as pd\n",
        "import io\n",
        "import datetime\n",
        "from datetime import datetime, timedelta\n",
        "from dateutil.tz import tzutc, tzlocal\n",
        "!pip install xls2xlsx"
      ],
      "metadata": {
        "id": "C6e5TAMIW66j"
      },
      "execution_count": null,
      "outputs": []
    },
    {
      "cell_type": "markdown",
      "source": [
        "# Upload File Scrape [format csv]"
      ],
      "metadata": {
        "id": "jvig-zCJZzuC"
      }
    },
    {
      "cell_type": "code",
      "execution_count": null,
      "metadata": {
        "colab": {
          "base_uri": "https://localhost:8080/",
          "resources": {
            "http://localhost:8080/nbextensions/google.colab/files.js": {
              "data": "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",
              "ok": true,
              "headers": [
                [
                  "content-type",
                  "application/javascript"
                ]
              ],
              "status": 200,
              "status_text": ""
            }
          },
          "height": 75
        },
        "id": "tOcEAkbjJv1l",
        "outputId": "ba21a042-e19d-47c5-c0a6-969db2673ed3"
      },
      "outputs": [
        {
          "output_type": "display_data",
          "data": {
            "text/plain": [
              "<IPython.core.display.HTML object>"
            ],
            "text/html": [
              "\n",
              "     <input type=\"file\" id=\"files-9b94071a-373b-4a19-84a7-36616b706f12\" name=\"files[]\" multiple disabled\n",
              "        style=\"border:none\" />\n",
              "     <output id=\"result-9b94071a-373b-4a19-84a7-36616b706f12\">\n",
              "      Upload widget is only available when the cell has been executed in the\n",
              "      current browser session. Please rerun this cell to enable.\n",
              "      </output>\n",
              "      <script src=\"/nbextensions/google.colab/files.js\"></script> "
            ]
          },
          "metadata": {}
        },
        {
          "output_type": "stream",
          "name": "stdout",
          "text": [
            "Saving rkbm tahun 22 samarinda.csv to rkbm tahun 22 samarinda.csv\n"
          ]
        }
      ],
      "source": [
        "#syntax upload file dari luar\n",
        "from google.colab import files\n",
        "uploaded = files.upload()\n",
        "\n",
        "\n",
        "df = pd.read_csv(io.BytesIO(uploaded['rkbm tahun 22 samarinda.csv'])) #diisi nama file yg diupload"
      ]
    },
    {
      "cell_type": "markdown",
      "source": [
        "#hitung selisih_waktu respon dengan waktu permohonan"
      ],
      "metadata": {
        "id": "k2UVczUryLW0"
      }
    },
    {
      "cell_type": "code",
      "source": [
        "#convert start_date to DateTime format, multiple columns\n",
        "df['waktu permohonan'] = pd.to_datetime(df['waktu permohonan'])\n",
        "df['waktu respon'] = pd.to_datetime(df['waktu respon'])\n",
        "df['jam_permohonan_UTC'] = df['waktu permohonan']+pd.DateOffset(hours=8)\n",
        "df['selisih_waktu'] = df['waktu respon']-df['jam_permohonan_UTC']"
      ],
      "metadata": {
        "id": "SQz2QFDmK7P6"
      },
      "execution_count": null,
      "outputs": []
    },
    {
      "cell_type": "markdown",
      "source": [
        "# Upload File dari operator [format xlsx]\n",
        "\n"
      ],
      "metadata": {
        "id": "TgxJhw9PZ9e_"
      }
    },
    {
      "cell_type": "code",
      "source": [
        "#silahkan upload file yg dr operator sekaligus\n",
        "from google.colab import files\n",
        "uploaded = files.upload()\n",
        "\n"
      ],
      "metadata": {
        "id": "POLrtVWw5_ZO"
      },
      "execution_count": null,
      "outputs": []
    },
    {
      "cell_type": "code",
      "source": [
        "#syntaxnya -> <nama_dataframe> = pd.read_excel(io.BytesIO(uploaded['<nama file excel yg diupload>']))\n",
        "#syntaxnya -> <nama_dataframe> = pd.read_excel(io.BytesIO(uploaded['<nama file excel yg diupload>']))\n",
        "\n",
        "df1 = pd.read_excel(io.BytesIO(uploaded['RKBM.IDSRI.2022-01-01.xlsx'])) \n",
        "df2 = pd.read_excel(io.BytesIO(uploaded['RKBM.IDSRI.2022-02-01.xlsx']))\n",
        "df3 = pd.read_excel(io.BytesIO(uploaded['RKBM.IDSRI.2022-03-01.xlsx']))\n",
        "df4 = pd.read_excel(io.BytesIO(uploaded['RKBM.IDSRI.2022-04-01.xlsx']))\n",
        "df5 = pd.read_excel(io.BytesIO(uploaded['RKBM.IDSRI.2022-05-01.xlsx']))\n",
        "df6 = pd.read_excel(io.BytesIO(uploaded['RKBM.IDSRI.2022-06-01.xlsx']))\n",
        "df7 = pd.read_excel(io.BytesIO(uploaded['RKBM.IDSRI.2022-07-01.xlsx']))\n",
        "df8 = pd.read_excel(io.BytesIO(uploaded['RKBM.IDSRI.2022-08-01.xlsx']))"
      ],
      "metadata": {
        "id": "JAvXgVPEr0H5"
      },
      "execution_count": null,
      "outputs": []
    },
    {
      "cell_type": "code",
      "source": [
        "df_operator = pd.concat([df1,df2,df3,df4,df5,df6,df7,df8])\n",
        "datagabung = pd.merge(df, df_operator, left_on=['nomor produk'], right_on=['NOMOR RKBM'], how='inner')"
      ],
      "metadata": {
        "id": "pAHuJ7sHZQzk"
      },
      "execution_count": null,
      "outputs": []
    },
    {
      "cell_type": "markdown",
      "source": [
        "# mengambil data tanpa bug"
      ],
      "metadata": {
        "id": "5ffv1MEEtDY1"
      }
    },
    {
      "cell_type": "code",
      "source": [
        "sort = datagabung.sort_values('selisih_waktu', ascending = False)\n",
        "datagabung_tanpabug = datagabung[datagabung['selisih_waktu']>timedelta(seconds=0)]\n",
        "datagabung_tanpabug.sort_values('selisih_waktu', ascending = True).head()"
      ],
      "metadata": {
        "id": "qwlbvoMltHce"
      },
      "execution_count": null,
      "outputs": []
    },
    {
      "cell_type": "markdown",
      "source": [
        "#make criteria in time difference"
      ],
      "metadata": {
        "id": "Wjlw15TAuGSk"
      }
    },
    {
      "cell_type": "code",
      "source": [
        "def sel(datagabung):\n",
        "    if datagabung['selisih_waktu'] < timedelta(seconds=31):\n",
        "        return \"Kurang dari 30 detik\"\n",
        "    elif datagabung['selisih_waktu'] < timedelta(minutes=30):\n",
        "        return \"Antara 30 detik - 30 menit\"\n",
        "    elif datagabung['selisih_waktu'] < timedelta(hours=1):\n",
        "        return \"Antara 30 - 60 menit\"\n",
        "    elif datagabung['selisih_waktu'] < timedelta(hours=6):\n",
        "        return \"Antara 1 - 6 jam\"\n",
        "    elif datagabung['selisih_waktu'] < timedelta(hours=12):\n",
        "        return \"Antara 6 - 12 jam\"\n",
        "    elif datagabung['selisih_waktu'] < timedelta(days=1):\n",
        "        return \"Antara 12 - 24 jam\"\n",
        "    else:\n",
        "        return \"Lebih dari 24 jam\"\n",
        "\n",
        "datagabung_tanpabug['pembagian selisih_waktu'] = datagabung_tanpabug.apply(sel, axis=1)\n",
        "sort_data = datagabung_tanpabug.sort_values(\"selisih_waktu\", axis = 0, ascending = True)"
      ],
      "metadata": {
        "id": "Ku1N649wYpK2"
      },
      "execution_count": null,
      "outputs": []
    },
    {
      "cell_type": "markdown",
      "source": [
        "#grouping pembagian selisih_waktu"
      ],
      "metadata": {
        "id": "JwjGjFXuucBS"
      }
    },
    {
      "cell_type": "code",
      "source": [
        "waktu_pelayanan = datagabung_tanpabug.groupby('pembagian selisih_waktu')['pembagian selisih_waktu'].count().reset_index(name='jumlah')\n",
        "waktu_pelayanan['persentase'] = waktu_pelayanan['jumlah']/len(datagabung_tanpabug)*100\n",
        "waktu_pelayanan.head(7)"
      ],
      "metadata": {
        "id": "J-G5fBigud2Z"
      },
      "execution_count": null,
      "outputs": []
    },
    {
      "cell_type": "markdown",
      "source": [
        "#indentasi penomoran waktu pelayanan"
      ],
      "metadata": {
        "id": "PuvH6X3jujEc"
      }
    },
    {
      "cell_type": "code",
      "source": [
        "def nomor_waktu(waktu_pelayanan):\n",
        "    if waktu_pelayanan['pembagian selisih_waktu'] == 'Kurang dari 30 detik':\n",
        "        return 1\n",
        "    elif waktu_pelayanan['pembagian selisih_waktu'] == 'Antara 30 detik - 30 menit':\n",
        "        return 2\n",
        "    elif waktu_pelayanan['pembagian selisih_waktu'] == 'Antara 30 - 60 menit':\n",
        "        return 3\n",
        "    elif waktu_pelayanan['pembagian selisih_waktu'] == 'Antara 1 - 6 jam':\n",
        "        return 4\n",
        "    elif waktu_pelayanan['pembagian selisih_waktu'] == 'Antara 6 - 12 jam':\n",
        "        return 5\n",
        "    elif waktu_pelayanan['pembagian selisih_waktu'] == 'Antara 12 - 24 jam':\n",
        "        return 6\n",
        "    else:\n",
        "        return 7"
      ],
      "metadata": {
        "id": "aEkwBKK9ul1Z"
      },
      "execution_count": null,
      "outputs": []
    },
    {
      "cell_type": "markdown",
      "source": [
        "#grouping waktu pelayanan"
      ],
      "metadata": {
        "id": "nDBkf6etunT1"
      }
    },
    {
      "cell_type": "code",
      "source": [
        "waktu_pelayanan['Nomor'] = waktu_pelayanan.apply(nomor_waktu, axis=1)\n",
        "waktu_pelayanan = waktu_pelayanan.sort_values(\"Nomor\", axis = 0, ascending = True)"
      ],
      "metadata": {
        "id": "jhRt3nf0ur2i"
      },
      "execution_count": null,
      "outputs": []
    },
    {
      "cell_type": "markdown",
      "source": [
        "#membuat table hari, bulan, waktu permohonan\n",
        "#divide waktu permohonan into day, month, time"
      ],
      "metadata": {
        "id": "NqTHy3nxus8N"
      }
    },
    {
      "cell_type": "code",
      "source": [
        "month_mapping={\n",
        "    1: 'January', \n",
        "    2: 'February', \n",
        "    3: 'March', \n",
        "    4: 'April', \n",
        "    5: 'May',\n",
        "    6: 'June', \n",
        "    7: 'July',\n",
        "    8: 'August'\n",
        "} \n",
        "dw_mapping={\n",
        "    0: 'Monday', \n",
        "    1: 'Tuesday', \n",
        "    2: 'Wednesday', \n",
        "    3: 'Thursday', \n",
        "    4: 'Friday',\n",
        "    5: 'Saturday', \n",
        "    6: 'Sunday'\n",
        "} \n",
        "\n",
        "datagabung_tanpabug['bulan permohonan'] = datagabung_tanpabug['waktu permohonan LT'].dt.month.map(month_mapping)\n",
        "datagabung_tanpabug['hari permohonan'] = datagabung_tanpabug['waktu permohonan LT'].dt.dayofweek.map(dw_mapping)\n"
      ],
      "metadata": {
        "id": "6LurereRuzKl"
      },
      "execution_count": null,
      "outputs": []
    },
    {
      "cell_type": "markdown",
      "source": [
        "#grouping pembagian bulan permohonan\n"
      ],
      "metadata": {
        "id": "itLw1UKgu6sJ"
      }
    },
    {
      "cell_type": "code",
      "source": [
        "bulan_permohonan = datagabung_tanpabug.groupby('bulan permohonan')['bulan permohonan'].count().reset_index(name='jumlah')\n",
        "bulan_permohonan['persentase'] = bulan_permohonan['jumlah']/len(datagabung)*100\n",
        "\n",
        "def nomor(bulan_permohonan):\n",
        "    if bulan_permohonan['bulan permohonan'] == 'January':\n",
        "        return 1\n",
        "    elif bulan_permohonan['bulan permohonan'] == 'February':\n",
        "        return 2\n",
        "    elif bulan_permohonan['bulan permohonan'] == 'March':\n",
        "        return 3\n",
        "    elif bulan_permohonan['bulan permohonan'] == 'April':\n",
        "        return 4\n",
        "    elif bulan_permohonan['bulan permohonan'] == 'May':\n",
        "        return 5\n",
        "    elif bulan_permohonan['bulan permohonan'] == 'June':\n",
        "        return 6\n",
        "    elif bulan_permohonan['bulan permohonan'] == 'July':\n",
        "        return 7\n",
        "    else:\n",
        "        return 8\n",
        "\n",
        "bulan_permohonan['nomor'] = bulan_permohonan.apply(nomor, axis=1)\n",
        "bulan_permohonan = bulan_permohonan.sort_values(\"nomor\", axis = 0, ascending = True)\n",
        "bulan_permohonan\n"
      ],
      "metadata": {
        "id": "t4yn_uhAu9aS"
      },
      "execution_count": null,
      "outputs": []
    },
    {
      "cell_type": "markdown",
      "source": [
        "#grouping pembagian bulan permohonan"
      ],
      "metadata": {
        "id": "j3Bn0BK_vH_R"
      }
    },
    {
      "cell_type": "code",
      "source": [
        "def nomor_hari(hari_permohonan):\n",
        "    if hari_permohonan['hari permohonan'] == 'Monday':\n",
        "        return 1\n",
        "    elif hari_permohonan['hari permohonan'] == 'Tuesday':\n",
        "        return 2\n",
        "    elif hari_permohonan['hari permohonan'] == 'Wednesday':\n",
        "        return 3\n",
        "    elif hari_permohonan['hari permohonan'] == 'Thursday':\n",
        "        return 4\n",
        "    elif hari_permohonan['hari permohonan'] == 'Saturday':\n",
        "        return 5\n",
        "    elif hari_permohonan['hari permohonan'] == 'Sunday':\n",
        "        return 6\n",
        "    else:\n",
        "        return 7\n",
        "    \n",
        "hari_permohonan = datagabung_tanpabug.groupby('hari permohonan')['hari permohonan'].count().reset_index(name='jumlah')\n",
        "hari_permohonan['Nomor'] = hari_permohonan.apply(nomor_hari, axis=1)\n",
        "hari_permohonan = hari_permohonan.sort_values(\"Nomor\", axis = 0, ascending = True)\n",
        "hari_permohonan\n"
      ],
      "metadata": {
        "id": "Xckoi904vKc4"
      },
      "execution_count": null,
      "outputs": []
    },
    {
      "cell_type": "markdown",
      "source": [
        "#pembagian kriteria berdasarkan waktu permohonan\n"
      ],
      "metadata": {
        "id": "QddcHwxovCSR"
      }
    },
    {
      "cell_type": "code",
      "source": [
        "batas_waktu1 = pd.to_datetime('06:00:00', format='%H:%M:%S')\n",
        "batas_waktu2 = pd.to_datetime('12:00:00', format='%H:%M:%S')\n",
        "batas_waktu3 = pd.to_datetime('18:00:00', format='%H:%M:%S')"
      ],
      "metadata": {
        "id": "ASbEMMbsvVOm"
      },
      "execution_count": null,
      "outputs": []
    },
    {
      "cell_type": "markdown",
      "source": [
        "#kriteria jam permohonan"
      ],
      "metadata": {
        "id": "8vn3VWo7vXh6"
      }
    },
    {
      "cell_type": "code",
      "source": [
        "def jam(datagabung_tanpabug):\n",
        "    if datagabung_tanpabug['jam permohonan'] < batas_waktu1:\n",
        "        return \"Jam 00.00 s.d. 06.00\"\n",
        "    elif datagabung_tanpabug['jam permohonan'] < batas_waktu2:\n",
        "        return \"Jam 06.00 s.d. 12.00\"\n",
        "    elif datagabung_tanpabug['jam permohonan'] < batas_waktu3:\n",
        "        return \"Jam 12.00 s.d. 18.00\"\n",
        "    else:\n",
        "        return \"Jam 18.00 s.d. 24.00\"\n",
        "\n",
        "datagabung_tanpabug['jam permohonan'] = datagabung_tanpabug['waktu permohonan LT'].dt.time\n",
        "datagabung_tanpabug['jam permohonan'] = pd.to_datetime(datagabung_tanpabug['jam permohonan'], format='%H:%M:%S')\n",
        "datagabung_tanpabug['pembagian jam permohonan'] = datagabung_tanpabug.apply(jam, axis=1)"
      ],
      "metadata": {
        "id": "hkb6yV7HvZXC"
      },
      "execution_count": null,
      "outputs": []
    },
    {
      "cell_type": "markdown",
      "source": [
        "#grouping pembagian jam permohonan"
      ],
      "metadata": {
        "id": "B0ms9qzevcbb"
      }
    },
    {
      "cell_type": "code",
      "source": [
        "waktu_permohonan = datagabung_tanpabug.groupby('pembagian jam permohonan')['pembagian jam permohonan'].count().reset_index(name='jumlah')\n",
        "waktu_permohonan['persentase'] = waktu_permohonan['jumlah']/len(datagabung_tanpabug)*100"
      ],
      "metadata": {
        "id": "YjkiCpEPveN7"
      },
      "execution_count": null,
      "outputs": []
    }
  ]
}