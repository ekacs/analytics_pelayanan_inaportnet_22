{
  "nbformat": 4,
  "nbformat_minor": 0,
  "metadata": {
    "colab": {
      "provenance": [],
      "collapsed_sections": [],
      "toc_visible": true,
      "authorship_tag": "ABX9TyN9zyKkqvdbkv6TgnR0IcDl",
      "include_colab_link": true
    },
    "kernelspec": {
      "name": "python3",
      "display_name": "Python 3"
    },
    "language_info": {
      "name": "python"
    }
  },
  "cells": [
    {
      "cell_type": "markdown",
      "metadata": {
        "id": "view-in-github",
        "colab_type": "text"
      },
      "source": [
        "<a href=\"https://colab.research.google.com/github/ekacs/analytics_pelayanan_inaportnet_22/blob/main/analytics_inaportnet_22.ipynb\" target=\"_parent\"><img src=\"https://colab.research.google.com/assets/colab-badge.svg\" alt=\"Open In Colab\"/></a>"
      ]
    },
    {
      "cell_type": "markdown",
      "source": [
        "# Upload File Scrape [format csv]"
      ],
      "metadata": {
        "id": "jvig-zCJZzuC"
      }
    },
    {
      "cell_type": "code",
      "execution_count": 3,
      "metadata": {
        "colab": {
          "base_uri": "https://localhost:8080/"
        },
        "id": "tOcEAkbjJv1l",
        "outputId": "a31265a9-8bc3-4332-94fd-a49788fc8dbf"
      },
      "outputs": [
        {
          "output_type": "stream",
          "name": "stdout",
          "text": [
            "Looking in indexes: https://pypi.org/simple, https://us-python.pkg.dev/colab-wheels/public/simple/\n",
            "Requirement already satisfied: pytz in /usr/local/lib/python3.7/dist-packages (2022.2.1)\n"
          ]
        }
      ],
      "source": [
        "#install library wajib\n",
        "!pip install pytz\n",
        "import numpy as np\n",
        "import pytz\n",
        "import pandas as pd\n",
        "import io\n",
        "import datetime\n",
        "from datetime import datetime, timedelta\n",
        "from dateutil.tz import tzutc, tzlocal\n",
        "\n",
        "#syntax upload file dari luar\n",
        "from google.colab import files\n",
        "uploaded = files.upload()\n",
        "df = pd.read_csv(io.BytesIO(uploaded['rkbm tahun 22 samarinda.csv'])) #diisi nama file yg diupload"
      ]
    },
    {
      "cell_type": "markdown",
      "source": [
        "#hitung selisih waktu respon dengan waktu permohonan"
      ],
      "metadata": {
        "id": "k2UVczUryLW0"
      }
    },
    {
      "cell_type": "code",
      "source": [
        "#convert start_date to DateTime format, multiple columns\n",
        "df['waktu permohonan'] = pd.to_datetime(df['waktu permohonan'])\n",
        "df['waktu respon'] = pd.to_datetime(df['waktu respon'])\n",
        "df['jam_permohonan_UTC'] = df['waktu permohonan']+pd.DateOffset(hours=8)\n",
        "df['selisih_waktu'] = df['waktu respon']-df['jam_permohonan_UTC']"
      ],
      "metadata": {
        "id": "SQz2QFDmK7P6"
      },
      "execution_count": null,
      "outputs": []
    },
    {
      "cell_type": "markdown",
      "source": [
        "# Upload File dari operator [format xlsx]"
      ],
      "metadata": {
        "id": "TgxJhw9PZ9e_"
      }
    },
    {
      "cell_type": "code",
      "source": [
        "from google.colab import files\n",
        "uploaded = files.upload()\n",
        "df1 = pd.read_excel(io.BytesIO(uploaded['RKBM.IDSRI.2022-01-01.xlsx']))"
      ],
      "metadata": {
        "id": "POLrtVWw5_ZO"
      },
      "execution_count": null,
      "outputs": []
    },
    {
      "cell_type": "code",
      "source": [
        "from google.colab import files\n",
        "uploaded = files.upload()\n",
        "df2 = pd.read_excel(io.BytesIO(uploaded['RKBM.IDSRI.2022-02-01.xlsx']))"
      ],
      "metadata": {
        "id": "JAvXgVPEr0H5"
      },
      "execution_count": null,
      "outputs": []
    },
    {
      "cell_type": "code",
      "source": [
        "from google.colab import files\n",
        "uploaded = files.upload()\n",
        "df3 = pd.read_excel(io.BytesIO(uploaded['RKBM.IDSRI.2022-03-01.xlsx']))"
      ],
      "metadata": {
        "id": "XigBs7tUr0Wh"
      },
      "execution_count": null,
      "outputs": []
    },
    {
      "cell_type": "code",
      "source": [
        "from google.colab import files\n",
        "uploaded = files.upload()\n",
        "df4 = pd.read_excel(io.BytesIO(uploaded['RKBM.IDSRI.2022-04-01.xlsx']))"
      ],
      "metadata": {
        "id": "IM8swXFIr0zz"
      },
      "execution_count": null,
      "outputs": []
    },
    {
      "cell_type": "code",
      "source": [
        "from google.colab import files\n",
        "uploaded = files.upload()\n",
        "df5 = pd.read_excel(io.BytesIO(uploaded['RKBM.IDSRI.2022-05-01.xlsx']))"
      ],
      "metadata": {
        "id": "_wWHQ7ekr1fd"
      },
      "execution_count": null,
      "outputs": []
    },
    {
      "cell_type": "code",
      "source": [
        "from google.colab import files\n",
        "uploaded = files.upload()\n",
        "df6 = pd.read_excel(io.BytesIO(uploaded['RKBM.IDSRI.2022-06-01.xlsx']))"
      ],
      "metadata": {
        "id": "Siq7SZwRr1qY"
      },
      "execution_count": null,
      "outputs": []
    },
    {
      "cell_type": "code",
      "source": [
        "from google.colab import files\n",
        "uploaded = files.upload()\n",
        "df7 = pd.read_excel(io.BytesIO(uploaded['RKBM.IDSRI.2022-07-01.xlsx']))"
      ],
      "metadata": {
        "id": "7Nra_Nmfr148"
      },
      "execution_count": null,
      "outputs": []
    },
    {
      "cell_type": "code",
      "source": [
        "from google.colab import files\n",
        "uploaded = files.upload()\n",
        "df8 = pd.read_excel(io.BytesIO(uploaded['RKBM.IDSRI.2022-08-01.xlsx']))"
      ],
      "metadata": {
        "id": "QTsF__W5r2EX"
      },
      "execution_count": null,
      "outputs": []
    },
    {
      "cell_type": "code",
      "source": [
        "df_operator = pd.concat([df1,df2,df3,df4,df5,df6,df7,df8])\n",
        "datamerge = pd.merge(df, df_operator, left_on=['nomor produk'], right_on=['NOMOR RKBM'], how='inner')"
      ],
      "metadata": {
        "id": "pAHuJ7sHZQzk"
      },
      "execution_count": null,
      "outputs": []
    },
    {
      "cell_type": "markdown",
      "source": [
        "# mengambil data tanpa bug"
      ],
      "metadata": {
        "id": "5ffv1MEEtDY1"
      }
    },
    {
      "cell_type": "code",
      "source": [
        "sort = datamerge.sort_values('selisih waktu', ascending = False)\n",
        "datamerge_tanpabug = datamerge[datamerge['selisih waktu']>timedelta(seconds=0)]\n",
        "datamerge_tanpabug.sort_values('selisih waktu', ascending = True).head()"
      ],
      "metadata": {
        "id": "qwlbvoMltHce"
      },
      "execution_count": null,
      "outputs": []
    },
    {
      "cell_type": "markdown",
      "source": [
        "#make criteria in time difference"
      ],
      "metadata": {
        "id": "Wjlw15TAuGSk"
      }
    },
    {
      "cell_type": "code",
      "source": [
        "def sel(datamerge):\n",
        "    if datamerge['selisih waktu'] < timedelta(seconds=31):\n",
        "        return \"Kurang dari 30 detik\"\n",
        "    elif datamerge['selisih waktu'] < timedelta(minutes=30):\n",
        "        return \"Antara 30 detik - 30 menit\"\n",
        "    elif datamerge['selisih waktu'] < timedelta(hours=1):\n",
        "        return \"Antara 30 - 60 menit\"\n",
        "    elif datamerge['selisih waktu'] < timedelta(hours=6):\n",
        "        return \"Antara 1 - 6 jam\"\n",
        "    elif datamerge['selisih waktu'] < timedelta(hours=12):\n",
        "        return \"Antara 6 - 12 jam\"\n",
        "    elif datamerge['selisih waktu'] < timedelta(days=1):\n",
        "        return \"Antara 12 - 24 jam\"\n",
        "    else:\n",
        "        return \"Lebih dari 24 jam\"\n",
        "\n",
        "datamerge_tanpabug['pembagian selisih waktu'] = datamerge_tanpabug.apply(sel, axis=1)\n",
        "sort_data = datamerge_tanpabug.sort_values(\"selisih waktu\", axis = 0, ascending = True)"
      ],
      "metadata": {
        "id": "Ku1N649wYpK2"
      },
      "execution_count": null,
      "outputs": []
    },
    {
      "cell_type": "markdown",
      "source": [
        "#grouping pembagian selisih waktu"
      ],
      "metadata": {
        "id": "JwjGjFXuucBS"
      }
    },
    {
      "cell_type": "code",
      "source": [
        "waktu_pelayanan = datamerge_tanpabug.groupby('pembagian selisih waktu')['pembagian selisih waktu'].count().reset_index(name='jumlah')\n",
        "waktu_pelayanan['persentase'] = waktu_pelayanan['jumlah']/len(datamerge_tanpabug)*100\n",
        "waktu_pelayanan.head(7)"
      ],
      "metadata": {
        "id": "J-G5fBigud2Z"
      },
      "execution_count": null,
      "outputs": []
    },
    {
      "cell_type": "markdown",
      "source": [
        "#indentasi penomoran waktu pelayanan"
      ],
      "metadata": {
        "id": "PuvH6X3jujEc"
      }
    },
    {
      "cell_type": "code",
      "source": [
        "def nomor_waktu(waktu_pelayanan):\n",
        "    if waktu_pelayanan['pembagian selisih waktu'] == 'Kurang dari 30 detik':\n",
        "        return 1\n",
        "    elif waktu_pelayanan['pembagian selisih waktu'] == 'Antara 30 detik - 30 menit':\n",
        "        return 2\n",
        "    elif waktu_pelayanan['pembagian selisih waktu'] == 'Antara 30 - 60 menit':\n",
        "        return 3\n",
        "    elif waktu_pelayanan['pembagian selisih waktu'] == 'Antara 1 - 6 jam':\n",
        "        return 4\n",
        "    elif waktu_pelayanan['pembagian selisih waktu'] == 'Antara 6 - 12 jam':\n",
        "        return 5\n",
        "    elif waktu_pelayanan['pembagian selisih waktu'] == 'Antara 12 - 24 jam':\n",
        "        return 6\n",
        "    else:\n",
        "        return 7"
      ],
      "metadata": {
        "id": "aEkwBKK9ul1Z"
      },
      "execution_count": null,
      "outputs": []
    },
    {
      "cell_type": "markdown",
      "source": [
        "#grouping waktu pelayanan"
      ],
      "metadata": {
        "id": "nDBkf6etunT1"
      }
    },
    {
      "cell_type": "code",
      "source": [
        "waktu_pelayanan['Nomor'] = waktu_pelayanan.apply(nomor_waktu, axis=1)\n",
        "waktu_pelayanan = waktu_pelayanan.sort_values(\"Nomor\", axis = 0, ascending = True)"
      ],
      "metadata": {
        "id": "jhRt3nf0ur2i"
      },
      "execution_count": null,
      "outputs": []
    },
    {
      "cell_type": "markdown",
      "source": [
        "#membuat table hari, bulan, waktu permohonan\n",
        "#divide waktu permohonan into day, month, time"
      ],
      "metadata": {
        "id": "NqTHy3nxus8N"
      }
    },
    {
      "cell_type": "code",
      "source": [
        "month_mapping={\n",
        "    1: 'January', \n",
        "    2: 'February', \n",
        "    3: 'March', \n",
        "    4: 'April', \n",
        "    5: 'May',\n",
        "    6: 'June', \n",
        "    7: 'July',\n",
        "    8: 'August'\n",
        "} \n",
        "dw_mapping={\n",
        "    0: 'Monday', \n",
        "    1: 'Tuesday', \n",
        "    2: 'Wednesday', \n",
        "    3: 'Thursday', \n",
        "    4: 'Friday',\n",
        "    5: 'Saturday', \n",
        "    6: 'Sunday'\n",
        "} \n",
        "\n",
        "datamerge_tanpabug['bulan permohonan'] = datamerge_tanpabug['waktu permohonan LT'].dt.month.map(month_mapping)\n",
        "datamerge_tanpabug['hari permohonan'] = datamerge_tanpabug['waktu permohonan LT'].dt.dayofweek.map(dw_mapping)\n"
      ],
      "metadata": {
        "id": "6LurereRuzKl"
      },
      "execution_count": null,
      "outputs": []
    },
    {
      "cell_type": "markdown",
      "source": [
        "#grouping pembagian bulan permohonan\n"
      ],
      "metadata": {
        "id": "itLw1UKgu6sJ"
      }
    },
    {
      "cell_type": "code",
      "source": [
        "bulan_permohonan = datamerge_tanpabug.groupby('bulan permohonan')['bulan permohonan'].count().reset_index(name='jumlah')\n",
        "bulan_permohonan['persentase'] = bulan_permohonan['jumlah']/len(datamerge)*100\n",
        "\n",
        "def nomor(bulan_permohonan):\n",
        "    if bulan_permohonan['bulan permohonan'] == 'January':\n",
        "        return 1\n",
        "    elif bulan_permohonan['bulan permohonan'] == 'February':\n",
        "        return 2\n",
        "    elif bulan_permohonan['bulan permohonan'] == 'March':\n",
        "        return 3\n",
        "    elif bulan_permohonan['bulan permohonan'] == 'April':\n",
        "        return 4\n",
        "    elif bulan_permohonan['bulan permohonan'] == 'May':\n",
        "        return 5\n",
        "    elif bulan_permohonan['bulan permohonan'] == 'June':\n",
        "        return 6\n",
        "    elif bulan_permohonan['bulan permohonan'] == 'July':\n",
        "        return 7\n",
        "    else:\n",
        "        return 8\n",
        "\n",
        "bulan_permohonan['nomor'] = bulan_permohonan.apply(nomor, axis=1)\n",
        "bulan_permohonan = bulan_permohonan.sort_values(\"nomor\", axis = 0, ascending = True)\n",
        "bulan_permohonan\n"
      ],
      "metadata": {
        "id": "t4yn_uhAu9aS"
      },
      "execution_count": null,
      "outputs": []
    },
    {
      "cell_type": "markdown",
      "source": [
        "#grouping pembagian bulan permohonan"
      ],
      "metadata": {
        "id": "j3Bn0BK_vH_R"
      }
    },
    {
      "cell_type": "code",
      "source": [
        "def nomor_hari(hari_permohonan):\n",
        "    if hari_permohonan['hari permohonan'] == 'Monday':\n",
        "        return 1\n",
        "    elif hari_permohonan['hari permohonan'] == 'Tuesday':\n",
        "        return 2\n",
        "    elif hari_permohonan['hari permohonan'] == 'Wednesday':\n",
        "        return 3\n",
        "    elif hari_permohonan['hari permohonan'] == 'Thursday':\n",
        "        return 4\n",
        "    elif hari_permohonan['hari permohonan'] == 'Saturday':\n",
        "        return 5\n",
        "    elif hari_permohonan['hari permohonan'] == 'Sunday':\n",
        "        return 6\n",
        "    else:\n",
        "        return 7\n",
        "    \n",
        "hari_permohonan = datamerge_tanpabug.groupby('hari permohonan')['hari permohonan'].count().reset_index(name='jumlah')\n",
        "hari_permohonan['Nomor'] = hari_permohonan.apply(nomor_hari, axis=1)\n",
        "hari_permohonan = hari_permohonan.sort_values(\"Nomor\", axis = 0, ascending = True)\n",
        "hari_permohonan\n"
      ],
      "metadata": {
        "id": "Xckoi904vKc4"
      },
      "execution_count": null,
      "outputs": []
    },
    {
      "cell_type": "markdown",
      "source": [
        "#pembagian kriteria berdasarkan waktu permohonan\n"
      ],
      "metadata": {
        "id": "QddcHwxovCSR"
      }
    },
    {
      "cell_type": "code",
      "source": [
        "batas_waktu1 = pd.to_datetime('06:00:00', format='%H:%M:%S')\n",
        "batas_waktu2 = pd.to_datetime('12:00:00', format='%H:%M:%S')\n",
        "batas_waktu3 = pd.to_datetime('18:00:00', format='%H:%M:%S')"
      ],
      "metadata": {
        "id": "ASbEMMbsvVOm"
      },
      "execution_count": null,
      "outputs": []
    },
    {
      "cell_type": "markdown",
      "source": [
        "#kriteria jam permohonan"
      ],
      "metadata": {
        "id": "8vn3VWo7vXh6"
      }
    },
    {
      "cell_type": "code",
      "source": [
        "def jam(datamerge_tanpabug):\n",
        "    if datamerge_tanpabug['jam permohonan'] < batas_waktu1:\n",
        "        return \"Jam 00.00 s.d. 06.00\"\n",
        "    elif datamerge_tanpabug['jam permohonan'] < batas_waktu2:\n",
        "        return \"Jam 06.00 s.d. 12.00\"\n",
        "    elif datamerge_tanpabug['jam permohonan'] < batas_waktu3:\n",
        "        return \"Jam 12.00 s.d. 18.00\"\n",
        "    else:\n",
        "        return \"Jam 18.00 s.d. 24.00\"\n",
        "\n",
        "datamerge_tanpabug['jam permohonan'] = datamerge_tanpabug['waktu permohonan LT'].dt.time\n",
        "datamerge_tanpabug['jam permohonan'] = pd.to_datetime(datamerge_tanpabug['jam permohonan'], format='%H:%M:%S')\n",
        "datamerge_tanpabug['pembagian jam permohonan'] = datamerge_tanpabug.apply(jam, axis=1)"
      ],
      "metadata": {
        "id": "hkb6yV7HvZXC"
      },
      "execution_count": null,
      "outputs": []
    },
    {
      "cell_type": "markdown",
      "source": [
        "#grouping pembagian jam permohonan"
      ],
      "metadata": {
        "id": "B0ms9qzevcbb"
      }
    },
    {
      "cell_type": "code",
      "source": [
        "waktu_permohonan = datamerge_tanpabug.groupby('pembagian jam permohonan')['pembagian jam permohonan'].count().reset_index(name='jumlah')\n",
        "waktu_permohonan['persentase'] = waktu_permohonan['jumlah']/len(datamerge_tanpabug)*100"
      ],
      "metadata": {
        "id": "YjkiCpEPveN7"
      },
      "execution_count": null,
      "outputs": []
    }
  ]
}